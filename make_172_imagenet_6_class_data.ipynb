{
 "cells": [
  {
   "cell_type": "code",
   "execution_count": 1,
   "metadata": {},
   "outputs": [],
   "source": [
    "import numpy as np\n",
    "import matplotlib.pyplot as plt\n",
    "import os\n",
    "import os.path as path\n",
    "from sklearn.model_selection import train_test_split"
   ]
  },
  {
   "cell_type": "code",
   "execution_count": 2,
   "metadata": {},
   "outputs": [],
   "source": [
    "index_list = [\n",
    "    [0,2],\n",
    "    [3,58],\n",
    "    [59,63],\n",
    "    [64,182],\n",
    "    [183,185],\n",
    "    [186,190]\n",
    "]\n",
    "y_list = ['bed', 'bird', 'cat', 'dog', 'house', 'tree']"
   ]
  },
  {
   "cell_type": "code",
   "execution_count": 3,
   "metadata": {},
   "outputs": [],
   "source": [
    "base_path = 'data'"
   ]
  },
  {
   "cell_type": "code",
   "execution_count": 4,
   "metadata": {},
   "outputs": [],
   "source": [
    "# Load npz\n",
    "savepath = path.join(base_path, '172_bbc.npz')\n",
    "l = np.load(savepath)\n",
    "bbc = l['bbc']\n",
    "bbclabel = l['bbclabel']\n",
    "\n",
    "savepath = path.join(base_path, '172_dht.npz')\n",
    "l = np.load(savepath)\n",
    "dht = l['dht']\n",
    "dhtlabel = l['dhtlabel']"
   ]
  },
  {
   "cell_type": "code",
   "execution_count": 5,
   "metadata": {},
   "outputs": [],
   "source": [
    "savepath = path.join(base_path, '172_val.npz')\n",
    "l = np.load(savepath)\n",
    "valimg = l['valimg']\n",
    "vallabel = l['vallabel']"
   ]
  },
  {
   "cell_type": "code",
   "execution_count": 6,
   "metadata": {},
   "outputs": [],
   "source": [
    "img_shape = (172, 172, 3)"
   ]
  },
  {
   "cell_type": "code",
   "execution_count": 7,
   "metadata": {},
   "outputs": [],
   "source": [
    "x_train = np.zeros((len(bbc)+len(dht), *img_shape))\n",
    "\n",
    "for i in range(len(bbc)):\n",
    "    x_train[i] = bbc[i].reshape(img_shape)\n",
    "for i in range(len(dht)):\n",
    "    x_train[len(bbc)+i] = dht[i].reshape(img_shape)"
   ]
  },
  {
   "cell_type": "code",
   "execution_count": 11,
   "metadata": {},
   "outputs": [],
   "source": [
    "a = np.argmax(bbclabel, axis=1)\n",
    "b = np.argmax(dhtlabel, axis=1)\n",
    "y_train = np.hstack((a,b))\n",
    "\n",
    "for i, [begin, end] in enumerate(index_list):\n",
    "    y_train[(y_train >= begin) & (y_train <= end)] = i "
   ]
  },
  {
   "cell_type": "code",
   "execution_count": 9,
   "metadata": {},
   "outputs": [],
   "source": [
    "valimg = l['valimg']\n",
    "vallabel = l['vallabel']\n",
    "\n",
    "x_val = np.zeros((len(valimg), *img_shape))\n",
    "for i in range(len(valimg)):\n",
    "    x_val[i] = valimg[i].reshape(img_shape)\n",
    "    \n",
    "y_val = np.argmax(vallabel, axis=1)\n",
    "for i, [begin, end] in enumerate(index_list):\n",
    "    y_val[(y_val >= begin) & (y_val <= end)] = i "
   ]
  },
  {
   "cell_type": "raw",
   "metadata": {},
   "source": [
    "y_label = np.argmax(y_data, axis=1)\n",
    "y_text = ['bed', 'bird', 'cat', 'dog', 'house', 'tree']\n",
    "y_table = {i:text for i, text in enumerate(y_text)}\n",
    "y_table_array = np.array([(i, text) for i, text in enumerate(y_text)])"
   ]
  },
  {
   "cell_type": "raw",
   "metadata": {},
   "source": [
    "x_train_temp, x_test, y_train_temp, y_test = train_test_split(\n",
    "    x_2d_data, y_label, test_size=0.2, random_state=42, stratify=y_label)\n",
    "\n",
    "x_train, x_val, y_train, y_val = train_test_split(\n",
    "    x_train_temp, y_train_temp, test_size=0.25, random_state=42, stratify=y_train_temp)\n",
    "\n",
    "x_train.shape, y_train.shape, x_val.shape, y_val.shape, x_test.shape, y_test.shape"
   ]
  },
  {
   "cell_type": "code",
   "execution_count": 12,
   "metadata": {},
   "outputs": [],
   "source": [
    "np.savez_compressed(path.join(base_path, 'imagenet_6_class_172_train_data.npz'), \n",
    "                     x_data=x_train, y_data=y_train, y_list=y_list)\n",
    "np.savez_compressed(path.join(base_path, 'imagenet_6_class_172_val_data.npz'), \n",
    "                     x_data=x_val, y_data=y_val, y_list=y_list)"
   ]
  },
  {
   "cell_type": "code",
   "execution_count": null,
   "metadata": {},
   "outputs": [],
   "source": []
  }
 ],
 "metadata": {
  "kernelspec": {
   "display_name": "Python 3",
   "language": "python",
   "name": "python3"
  },
  "language_info": {
   "codemirror_mode": {
    "name": "ipython",
    "version": 3
   },
   "file_extension": ".py",
   "mimetype": "text/x-python",
   "name": "python",
   "nbconvert_exporter": "python",
   "pygments_lexer": "ipython3",
   "version": "3.5.2"
  }
 },
 "nbformat": 4,
 "nbformat_minor": 2
}
