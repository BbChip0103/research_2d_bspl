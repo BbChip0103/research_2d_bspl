{
 "cells": [
  {
   "cell_type": "code",
   "execution_count": 1,
   "metadata": {},
   "outputs": [],
   "source": [
    "import numpy as np\n",
    "import matplotlib.pyplot as plt\n",
    "import os\n",
    "import os.path as path\n",
    "from sklearn.model_selection import train_test_split"
   ]
  },
  {
   "cell_type": "code",
   "execution_count": 2,
   "metadata": {},
   "outputs": [],
   "source": [
    "base_path = 'data'\n",
    "original_data = path.join(base_path, 'AM_test_original.npz')\n",
    "data = np.load(original_data)"
   ]
  },
  {
   "cell_type": "code",
   "execution_count": 3,
   "metadata": {},
   "outputs": [],
   "source": [
    "x_data = data['trainimg']\n",
    "y_data = data['trainlabel']"
   ]
  },
  {
   "cell_type": "code",
   "execution_count": 4,
   "metadata": {},
   "outputs": [],
   "source": [
    "img_shape = (341, 341, 3)\n",
    "x_2d_data = x_data.reshape((len(x_data), *img_shape))"
   ]
  },
  {
   "cell_type": "code",
   "execution_count": 5,
   "metadata": {},
   "outputs": [],
   "source": [
    "y_label = np.argmax(y_data, axis=1)\n",
    "y_text = ['bed', 'bird', 'cat', 'dog', 'house', 'tree']\n",
    "y_table = {i:text for i, text in enumerate(y_text)}\n",
    "y_table_array = np.array([(i, text) for i, text in enumerate(y_text)])"
   ]
  },
  {
   "cell_type": "code",
   "execution_count": 6,
   "metadata": {},
   "outputs": [
    {
     "data": {
      "text/plain": [
       "((4680, 341, 341, 3),\n",
       " (4680,),\n",
       " (1560, 341, 341, 3),\n",
       " (1560,),\n",
       " (1560, 341, 341, 3),\n",
       " (1560,))"
      ]
     },
     "execution_count": 6,
     "metadata": {},
     "output_type": "execute_result"
    }
   ],
   "source": [
    "x_train_temp, x_test, y_train_temp, y_test = train_test_split(\n",
    "    x_2d_data, y_label, test_size=0.2, random_state=42, stratify=y_label)\n",
    "\n",
    "x_train, x_val, y_train, y_val = train_test_split(\n",
    "    x_train_temp, y_train_temp, test_size=0.25, random_state=42, stratify=y_train_temp)\n",
    "\n",
    "x_train.shape, y_train.shape, x_val.shape, y_val.shape, x_test.shape, y_test.shape"
   ]
  },
  {
   "cell_type": "code",
   "execution_count": 7,
   "metadata": {},
   "outputs": [],
   "source": [
    "np.savez_compressed(path.join(base_path, 'imagenet_6_class_train_data.npz'), \n",
    "                     x_data=x_train, y_data=y_train, y_table_array=y_table_array)\n",
    "np.savez_compressed(path.join(base_path, 'imagenet_6_class_val_data.npz'), \n",
    "                     x_data=x_val, y_data=y_val, y_table_array=y_table_array)\n",
    "np.savez_compressed(path.join(base_path, 'imagenet_6_class_test_data.npz'), \n",
    "                     x_data=x_test, y_data=y_test, y_table_array=y_table_array)"
   ]
  },
  {
   "cell_type": "code",
   "execution_count": 8,
   "metadata": {},
   "outputs": [],
   "source": [
    "x_data = data['valimg']\n",
    "y_data = data['vallabel']"
   ]
  },
  {
   "cell_type": "code",
   "execution_count": 9,
   "metadata": {},
   "outputs": [],
   "source": [
    "img_shape = (341, 341, 3)\n",
    "x_2d_data = x_data.reshape((len(x_data), *img_shape))"
   ]
  },
  {
   "cell_type": "code",
   "execution_count": 11,
   "metadata": {},
   "outputs": [],
   "source": [
    "np.savez_compressed(path.join(base_path, 'imagenet_6_class_vis_data.npz'), \n",
    "                     x_data=x_2d_data, y_data=y_data, y_table_array=y_table_array)"
   ]
  },
  {
   "cell_type": "code",
   "execution_count": null,
   "metadata": {},
   "outputs": [],
   "source": []
  }
 ],
 "metadata": {
  "kernelspec": {
   "display_name": "Python 3",
   "language": "python",
   "name": "python3"
  },
  "language_info": {
   "codemirror_mode": {
    "name": "ipython",
    "version": 3
   },
   "file_extension": ".py",
   "mimetype": "text/x-python",
   "name": "python",
   "nbconvert_exporter": "python",
   "pygments_lexer": "ipython3",
   "version": "3.5.2"
  }
 },
 "nbformat": 4,
 "nbformat_minor": 2
}
